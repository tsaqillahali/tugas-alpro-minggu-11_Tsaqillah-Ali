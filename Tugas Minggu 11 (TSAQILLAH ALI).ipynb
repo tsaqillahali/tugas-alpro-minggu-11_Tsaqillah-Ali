{
 "cells": [
  {
   "cell_type": "markdown",
   "id": "1a17f77d-2bca-473b-acf3-017ee3dc7208",
   "metadata": {
    "jp-MarkdownHeadingCollapsed": true
   },
   "source": [
    "# Minggu 1 - Pengenalan Phyton"
   ]
  },
  {
   "cell_type": "markdown",
   "id": "0fdb84eb-e94c-4ea8-a752-9d85c1c0a1d8",
   "metadata": {},
   "source": [
    "## Syntax Dasar"
   ]
  },
  {
   "cell_type": "code",
   "execution_count": 4,
   "id": "2a1aa6da-f808-475b-999c-86450373d677",
   "metadata": {},
   "outputs": [
    {
     "data": {
      "text/plain": [
       "'hello world'"
      ]
     },
     "execution_count": 4,
     "metadata": {},
     "output_type": "execute_result"
    }
   ],
   "source": [
    "\"hello world\""
   ]
  },
  {
   "cell_type": "code",
   "execution_count": 6,
   "id": "81ae7141-c407-430f-9f61-63e28c166a6d",
   "metadata": {},
   "outputs": [
    {
     "name": "stdout",
     "output_type": "stream",
     "text": [
      "hello world\n"
     ]
    }
   ],
   "source": [
    "print('hello world')"
   ]
  },
  {
   "cell_type": "code",
   "execution_count": 12,
   "id": "fdd4e685-c302-4532-8b74-38577da601f6",
   "metadata": {},
   "outputs": [
    {
     "name": "stdout",
     "output_type": "stream",
     "text": [
      "Tipe data 2.2 adalah <class 'float'>\n"
     ]
    }
   ],
   "source": [
    "a = 2.2\n",
    "print(\"Tipe data\", a, \"adalah\", type(a))"
   ]
  },
  {
   "cell_type": "code",
   "execution_count": 14,
   "id": "3eddc0da-b54b-4812-8d0f-4112df9b3fe8",
   "metadata": {},
   "outputs": [
    {
     "name": "stdout",
     "output_type": "stream",
     "text": [
      "Tipe data ucup adalah <class 'str'>\n"
     ]
    }
   ],
   "source": [
    "b = \"ucup\"\n",
    "print(\"Tipe data\", b, \"adalah\", type(b)) "
   ]
  },
  {
   "cell_type": "code",
   "execution_count": 18,
   "id": "17e09546-aafe-4b6c-b9ca-23864cf7d863",
   "metadata": {},
   "outputs": [
    {
     "name": "stdout",
     "output_type": "stream",
     "text": [
      "True\n",
      "Tipe data True adalah <class 'bool'>\n"
     ]
    }
   ],
   "source": [
    "c = 3>0\n",
    "print (c)\n",
    "print(\"Tipe data\", c, \"adalah\", type(c))"
   ]
  },
  {
   "cell_type": "code",
   "execution_count": 20,
   "id": "1e39de3e-5d0d-4b0d-914c-078f1e1dde45",
   "metadata": {},
   "outputs": [
    {
     "name": "stdout",
     "output_type": "stream",
     "text": [
      "Tipe data 10000 adalah <class 'int'>\n"
     ]
    }
   ],
   "source": [
    "d = 10000\n",
    "print(\"Tipe data\", d, \"adalah\", type(d))"
   ]
  },
  {
   "cell_type": "code",
   "execution_count": 22,
   "id": "0c73c18f-2ee2-4d3a-a72f-74971fa31afd",
   "metadata": {},
   "outputs": [
    {
     "name": "stdout",
     "output_type": "stream",
     "text": [
      "Nama saya adalah Tsaqillah Ali dan usia saya adalah 18\n"
     ]
    }
   ],
   "source": [
    "nama = \"Tsaqillah Ali\"\n",
    "usia = 18\n",
    "print(\"Nama saya adalah\", nama, \"dan usia saya adalah\", usia)"
   ]
  },
  {
   "cell_type": "code",
   "execution_count": 24,
   "id": "35f2ea4c-ac5f-4b11-a91f-a5c3c7801219",
   "metadata": {},
   "outputs": [
    {
     "name": "stdout",
     "output_type": "stream",
     "text": [
      "<class 'str'>\n",
      "<class 'int'>\n",
      "<class 'float'>\n",
      "<class 'bool'>\n"
     ]
    }
   ],
   "source": [
    "nama = \"chila\"\n",
    "usia = 18\n",
    "tinggi = 1.60\n",
    "benar = True\n",
    "print(type(nama))\n",
    "print(type(usia))\n",
    "print(type(tinggi))\n",
    "print(type(benar))"
   ]
  },
  {
   "cell_type": "markdown",
   "id": "ed5ec9ee-67b5-49ab-bdd7-357c11d901d1",
   "metadata": {
    "jp-MarkdownHeadingCollapsed": true
   },
   "source": [
    "# Minggu 2 - Tipe data & Operator Phyton"
   ]
  },
  {
   "cell_type": "markdown",
   "id": "d34d9395-8f72-421c-b947-8269c48542cd",
   "metadata": {},
   "source": [
    "## How to print"
   ]
  },
  {
   "cell_type": "markdown",
   "id": "1d2078c2-0368-410c-8ad1-1930d335b241",
   "metadata": {},
   "source": [
    "Fungsi print() digunakan untuk mencetak output program di layar."
   ]
  },
  {
   "cell_type": "code",
   "execution_count": 30,
   "id": "f8898ad9-d63d-4db2-8865-7fa9e09b56a4",
   "metadata": {},
   "outputs": [
    {
     "name": "stdout",
     "output_type": "stream",
     "text": [
      "hello, world!\n"
     ]
    }
   ],
   "source": [
    "print(\"hello, world!\")"
   ]
  },
  {
   "cell_type": "code",
   "execution_count": 32,
   "id": "1df0b166-0ec9-4a8a-946d-70b84040feec",
   "metadata": {},
   "outputs": [
    {
     "name": "stdout",
     "output_type": "stream",
     "text": [
      "hello, world!\n"
     ]
    }
   ],
   "source": [
    "print(f\"hello, world!\")"
   ]
  },
  {
   "cell_type": "markdown",
   "id": "319e0a2e-cdc6-4951-a01b-d910835bf885",
   "metadata": {},
   "source": [
    "## Komentar"
   ]
  },
  {
   "cell_type": "markdown",
   "id": "e8c1cc66-6b55-4a63-8b4a-b1c55acbe660",
   "metadata": {},
   "source": [
    "komentar merupakan sekumpulan teks yang dituliskan dalam sebuah program dan tidak akan mempengaruhi hasil dari program tersebut. Walaupun tidak mempengaruhi hasil program, komentar merupakan salah satu bagian penting dalam pengkodean, hal ini dikarenakan komentar digunakan sebagai penjelasan alur dari kode program yang kita tulis serta dapat diselipkan di antara sekumpulan statement yang telah dituliskan. komentar ini tentunya juga dapat memudahkan programmer untuk berkomunikasi dengan programmer lainnya. Komentar merupakan "
   ]
  },
  {
   "cell_type": "code",
   "execution_count": 38,
   "id": "cce0a519-d8a7-4eca-b572-3c9610842626",
   "metadata": {},
   "outputs": [
    {
     "name": "stdout",
     "output_type": "stream",
     "text": [
      "komentar tidak akan mengeluarkan output apapun\n"
     ]
    }
   ],
   "source": [
    "# ini namanya komentar\n",
    "\n",
    "\"\"\"\n",
    "ini juga komentar\n",
    "tapi bisa banyak baris\n",
    "kaya gini\n",
    "\"\"\"\n",
    "\n",
    "print(\"komentar tidak akan mengeluarkan output apapun\")"
   ]
  },
  {
   "cell_type": "markdown",
   "id": "84d8b240-0588-49c0-aa60-011e342115e7",
   "metadata": {},
   "source": [
    "## Variabel"
   ]
  },
  {
   "cell_type": "code",
   "execution_count": 43,
   "id": "e729b566-a67a-4948-9e6b-bd864a90d3c9",
   "metadata": {},
   "outputs": [],
   "source": [
    "# Variabel\n",
    "nama = \"chila\"\n",
    "umur = 18\n",
    "status_pernikahan = \"belum menikah\"\n",
    "statuspernikahan = \"blm menikah\""
   ]
  },
  {
   "cell_type": "markdown",
   "id": "e6fc65df-0386-4ecf-9e71-be037b198052",
   "metadata": {},
   "source": [
    "## Multistatement variabel"
   ]
  },
  {
   "cell_type": "markdown",
   "id": "d1dbfbcd-2a75-4765-8a9e-5ef5927c6a47",
   "metadata": {},
   "source": [
    "##### Multistatement Variabel dalam phyton biasanya digunakan ketika ingin menyimpan atau menulis string atau kode dalam beberapa baris untuk meningkatkan keterbacaan atau menghindari batasan panjang baris."
   ]
  },
  {
   "cell_type": "code",
   "execution_count": 70,
   "id": "ef635eb4-13b5-4b1f-a509-fad89c174cfa",
   "metadata": {},
   "outputs": [],
   "source": [
    "nama = \"chila\"\n",
    "a = 10; b= 8\n",
    "kesibukan, keterangan = 'berkuliah','telkom university surabaya'"
   ]
  },
  {
   "cell_type": "code",
   "execution_count": 72,
   "id": "91f6bf22-5ddd-462f-b730-793865d323ec",
   "metadata": {},
   "outputs": [
    {
     "name": "stdout",
     "output_type": "stream",
     "text": [
      "Nama saya chila dan Umur saya adalah 18 Tahun dan sedang berkuliah di telkom university surabaya\n"
     ]
    }
   ],
   "source": [
    "print(f\"Nama saya {nama} dan Umur saya adalah {a+b} Tahun dan sedang {kesibukan} di {keterangan}\")"
   ]
  },
  {
   "cell_type": "markdown",
   "id": "eee7a4a2-e0e3-4250-b6bf-5a1f5d5a3537",
   "metadata": {},
   "source": [
    "## Input dari pengguna"
   ]
  },
  {
   "cell_type": "markdown",
   "id": "36c620c0-77a0-4573-a537-9b44649e62bb",
   "metadata": {},
   "source": [
    "##### Di Python, dapat meminta input dari pengguna menggunakan fungsi bawaan input(). Fungsi ini membaca input dari pengguna sebagai string secara default."
   ]
  },
  {
   "cell_type": "code",
   "execution_count": 78,
   "id": "cde874f0-f4f9-4052-a69b-371b87df4bc7",
   "metadata": {},
   "outputs": [
    {
     "name": "stdin",
     "output_type": "stream",
     "text": [
      "Masukkan nama Anda:  chila\n",
      "Berapa harganya?:  15000\n"
     ]
    },
    {
     "name": "stdout",
     "output_type": "stream",
     "text": [
      "\n",
      "\n",
      "Halo, aku chila dan aku sudah makan ayam goreng yang harganya Rp 15000\n"
     ]
    }
   ],
   "source": [
    "nama = input(\"Masukkan nama Anda: \") \n",
    "makan = 'sudah'\n",
    "harga = int(input(\"Berapa harganya?: \"))\n",
    "print('\\n')\n",
    "print(\"Halo, aku\", nama, 'dan aku', makan, 'makan ayam goreng yang harganya Rp', harga)"
   ]
  },
  {
   "cell_type": "markdown",
   "id": "1b67fc9b-e521-40ba-aba5-6b2b0ae779ac",
   "metadata": {},
   "source": [
    "## Operator Aritmatika"
   ]
  },
  {
   "cell_type": "code",
   "execution_count": 87,
   "id": "b9c6fbe0-3bb7-47c1-bef1-018afbc22725",
   "metadata": {},
   "outputs": [],
   "source": [
    "# Penjumlahan (+): Menjumlahkan nilai dari masing-masing operan atau bilangan\n",
    "# Pengurangan (-): Mengurangi nilai operan di sebelah kiri menggunakan operan di sebelah kanan\n",
    "# Perkalian (*): Mengalikan operan/bilangan\n",
    "# Pembagian (/): Untuk membagi operan di sebelah kiri menggunakan operan di sebelah kanan\n",
    "# Sisa Bagi (%): Mendapatkan sisa pembagian dari operan di sebelah kiri operator ketika dibagi oleh operan di sebelah kanan Pangkat (**): Memangkatkan operan disebelah kiri operator dengan operan di sebelah kanan operator\n",
    "# Pembagian Bulat (//): Sama seperti pembagian. Hanya saja angka dibelakang koma dihilangkan"
   ]
  },
  {
   "cell_type": "code",
   "execution_count": 93,
   "id": "e0e570a8-cd11-4bff-9db2-a5d89cfad8f9",
   "metadata": {},
   "outputs": [
    {
     "name": "stdout",
     "output_type": "stream",
     "text": [
      "15\n",
      "16\n",
      "Sisa hutang Anda adalah  5000\n",
      "216\n",
      "Setiap anak akan mendapatkan bagian kue sebanyak  4.0\n",
      "Sisa bagi dari bilangan  14  dan  5  adalah  4\n",
      "64\n",
      "3\n"
     ]
    }
   ],
   "source": [
    "#Operator Aritmatika\n",
    "\n",
    "#Penjumlahan\n",
    "print(13+2)\n",
    "apel = 7\n",
    "jeruk = 9\n",
    "buah = apel + jeruk \n",
    "print(buah)\n",
    "\n",
    "#Pengurangan\n",
    "hutang = 10000\n",
    "bayar = 5000\n",
    "sisaHutang = hutang - bayar\n",
    "print(\"Sisa hutang Anda adalah \", sisaHutang)\n",
    "\n",
    "#Perkalian\n",
    "panjang = 36\n",
    "lebar = 6\n",
    "luas = panjang * lebar \n",
    "print(luas)\n",
    "\n",
    "#Pembagian\n",
    "kue = 20\n",
    "anak = 5\n",
    "kuePerAnak = kue / anak\n",
    "print(\"Setiap anak akan mendapatkan bagian kue sebanyak \", kuePerAnak)\n",
    "\n",
    "#Sisa Bagi / Modulus\n",
    "bilangan1 = 14\n",
    "bilangan2 = 5\n",
    "hasil = bilangan1 % bilangan2\n",
    "print(\"Sisa bagi dari bilangan \", bilangan1, \" dan \", bilangan2, \" adalah \", hasil)\n",
    "\n",
    "#Pangkat\n",
    "bilangan3 = 8\n",
    "bilangan4 = 2\n",
    "hasilPangkat = bilangan3 ** bilangan4 \n",
    "print(hasilPangkat)\n",
    "\n",
    "#Pembagian Bulat\n",
    "print(10//3)\n",
    "#10 dibagi 3 adalah 3.3333. Karena dibulatkan maka akan menghasilkan nilai 3"
   ]
  },
  {
   "cell_type": "markdown",
   "id": "1c355edd-e019-4e36-b49e-ac3f6da78410",
   "metadata": {
    "jp-MarkdownHeadingCollapsed": true
   },
   "source": [
    "# Minggu 3 - Tipe Data dan Analisis Masalah"
   ]
  },
  {
   "cell_type": "markdown",
   "id": "a5fe9c0d-1d1a-441e-8f50-f6fe39a7080b",
   "metadata": {},
   "source": [
    "## Tipe Data Boolean"
   ]
  },
  {
   "cell_type": "markdown",
   "id": "204ae1e8-e338-4301-a5e0-f6b18b4729a5",
   "metadata": {},
   "source": [
    "##### Tipe data boolean adalah tipe data yang digunakan untuk mempresentasikan nilai kebenaran. Data ini akan erat kaitannya dengan logika matematika, dimana datanya hanya akan terdiri dari dua jenis, yaitu TRUE dan FALSE. Misalkan kita ingin menguji apakah data yang pertama lebih besar dari data yang kedua, jika benar maka Python akan menampilkan output TRUE, sementara jika salah maka akan menampilkan output FALSE."
   ]
  },
  {
   "cell_type": "code",
   "execution_count": 98,
   "id": "796e5a7b-81b8-41cc-baeb-c60245acab4a",
   "metadata": {},
   "outputs": [
    {
     "name": "stdout",
     "output_type": "stream",
     "text": [
      "False\n",
      "True\n",
      "False\n"
     ]
    }
   ],
   "source": [
    "a = True \n",
    "b = False\n",
    "print(a and b) \n",
    "print(a or b) \n",
    "print(not a)"
   ]
  },
  {
   "cell_type": "code",
   "execution_count": 100,
   "id": "2bb5739c-2236-4ddd-979a-d7a2d0c980a0",
   "metadata": {},
   "outputs": [
    {
     "name": "stdout",
     "output_type": "stream",
     "text": [
      "True\n",
      "False\n"
     ]
    }
   ],
   "source": [
    "x = True\n",
    "y = False\n",
    "print(10 > 5) \n",
    "print(10 < 5)"
   ]
  },
  {
   "cell_type": "markdown",
   "id": "2f3ae9b1-a3b3-4c99-b09a-645950eeafa7",
   "metadata": {},
   "source": [
    "## Operasi perbandingan"
   ]
  },
  {
   "cell_type": "code",
   "execution_count": 103,
   "id": "b535450e-235e-49c7-a6a3-bf62b6df31f9",
   "metadata": {},
   "outputs": [],
   "source": [
    "# Operator perbandingan (comparison operators) digunakan untuk membandingkan suatu nilai dari masing-masing operan. \n",
    "# Sama dengan (==) : bernilai True Jika masing-masing operan memiliki nilai yang sama, maka kondisi bernilai benar atau True. Tidak sama dengan (<>) : bernilai False Akan menghasilkan nilai kebalikan dari kondisi sebenarnya.\n",
    "# Lebih besar dari (>) : bernilai True Jika nilai operan kiri lebih besar dari nilai operan kanan, maka kondisi menjadi benar.\n",
    "# Lebih kecil dari (<) : bernilai True Jika nilai operan kiri lebih kecil dari nilai operan kanan, maka kondisi menjadi benar.\n",
    "# Lebih besar atau sama dengan (>=) : bernilai True Jika nilai operan kiri lebih besar dari nilai operan kanan, atau sama, maka kondisi menjadi benar.\n",
    "# Lebih kecil atau sama dengan (<=) : bernilai True Jika nilai operan kiri lebih kecil dari nilai operan kanan, atau sama, maka kondisi menjadi benar."
   ]
  },
  {
   "cell_type": "code",
   "execution_count": 105,
   "id": "49dd3f1e-0854-4d4d-acdb-8bf0a42a9a0a",
   "metadata": {},
   "outputs": [
    {
     "name": "stdout",
     "output_type": "stream",
     "text": [
      "True\n",
      "False\n",
      "False\n",
      "True\n",
      "True\n",
      "False\n",
      "True\n",
      "False\n"
     ]
    }
   ],
   "source": [
    "#Operasi Perbandingan\n",
    "\n",
    "# SAMA DENGAN\n",
    "print(1 == 1) # Hasilnya akan bernilai True karena satu sama dengan satu \n",
    "print(1 == 2) # Hasilnya akan bernilai False karena satu tidak sama dengan dua\n",
    "\n",
    "# TIDAK SAMA DENGAN\n",
    "print(2 != 2) # Hasilnya akan bernilai False karena dua seharusnya sama dengan dua \n",
    "print(2 != 3) # Hasilnya akan bernilai True karena dua tidak sama dengan tiga\n",
    "\n",
    "# LEBIH BESAR DARI\n",
    "print(5 > 3) # Hasilnya akan bernilai True karena lima lebih besar dari tiga\n",
    "\n",
    "# LEBIH KECIL DARI\n",
    "print(5 < 3) # Hasilnya akan bernilai False karena lima tidak lebih besar dari tiga\n",
    "\n",
    "# LEBIH BESAR DARI SAMA DENGAN\n",
    "print(5 >= 3) # Hasilnya akan bernilai True karena lima lebih besar dari sama dengan tiga\n",
    "\n",
    "# LEBIH KECIL DARI SAMA DENGAN\n",
    "print(5 <= 3) # Hasilnya akan bernilai False karena lima tidak lebih besar dari sama dengan tiga"
   ]
  },
  {
   "cell_type": "markdown",
   "id": "609ac070-a92a-481d-a9cb-70b4ec648502",
   "metadata": {},
   "source": [
    "## Tipe data string "
   ]
  },
  {
   "cell_type": "markdown",
   "id": "3e0af7fb-78a4-4675-ae8a-dea9b6626e1a",
   "metadata": {},
   "source": [
    "##### Tipe data ini merupakan tipe data yang berkaitan erat dengan data yang bentuknya teks. Dalam proses analisis data, data yang kita butuhkan terkadang tidak hanya data numerik, namun juga data string. Dengan memahami tipe data ini, kita akan bisa memprosesnya dengan lebih mudah."
   ]
  },
  {
   "cell_type": "code",
   "execution_count": 109,
   "id": "9153d8ff-6d46-4c14-979a-070e2749658f",
   "metadata": {},
   "outputs": [
    {
     "name": "stdout",
     "output_type": "stream",
     "text": [
      "chila\n"
     ]
    }
   ],
   "source": [
    "nama = \"chila\" \n",
    "print(nama)"
   ]
  },
  {
   "cell_type": "code",
   "execution_count": 111,
   "id": "f86a49c8-417a-4f4c-83bb-06cf4f8e624b",
   "metadata": {},
   "outputs": [
    {
     "name": "stdout",
     "output_type": "stream",
     "text": [
      "halo mella\n"
     ]
    }
   ],
   "source": [
    "sapa = \"halo\"\n",
    "nama = \"mella\" \n",
    "kalimat = sapa + \" \" + nama \n",
    "print(kalimat)"
   ]
  },
  {
   "cell_type": "markdown",
   "id": "af147057-d505-45a4-a51f-f5b7ae912a3d",
   "metadata": {},
   "source": [
    "# Minggu 4 - Perulangan(dengan For-Loop)"
   ]
  },
  {
   "cell_type": "markdown",
   "id": "da22f456-37a2-4dd9-bfa7-0b0c13a64706",
   "metadata": {},
   "source": [
    "## perulangan (Looping)"
   ]
  },
  {
   "cell_type": "markdown",
   "id": "2ec8dd44-c9b8-4513-b5f8-4b7c8c53f928",
   "metadata": {},
   "source": [
    "##### Secara umum, looping atau perulangan pada Python adalah instruksi kode program yang dieksekusi berulang kali. Fungsinya untuk memerintah komputer melakukan sesuatu secara berulang-ulang dengan jumlah tertentu selama sebuah kondisi yang telah ditentukan masih terpenuhi. Python memiliki dua jenis perulangan utama: for loop dan while loop."
   ]
  },
  {
   "cell_type": "markdown",
   "id": "0e75553a-d7d7-4bfd-a534-8e59fab447c0",
   "metadata": {},
   "source": [
    "### 1. For Loop"
   ]
  },
  {
   "cell_type": "markdown",
   "id": "eac45e91-d841-4166-90da-afe5ced339b3",
   "metadata": {},
   "source": [
    "##### Digunakan untuk mengulangi elemen dalam urutan (seperti list, tuple, string, atau range)."
   ]
  },
  {
   "cell_type": "code",
   "execution_count": 123,
   "id": "d6afba38-9056-49f8-929c-ec7be449dea9",
   "metadata": {},
   "outputs": [
    {
     "name": "stdout",
     "output_type": "stream",
     "text": [
      "apel\n",
      "mangga\n",
      "anggur\n",
      "\n",
      "P\n",
      "y\n",
      "t\n",
      "h\n",
      "o\n",
      "n\n",
      "\n",
      "0\n",
      "1\n",
      "2\n",
      "3\n",
      "4\n",
      "2\n",
      "3\n",
      "4\n",
      "5\n"
     ]
    }
   ],
   "source": [
    "#Loop Melalui List\n",
    "buah = [\"apel\", \"mangga\", \"anggur\"] \n",
    "for buah in buah:\n",
    "    print(buah)\n",
    "print()\n",
    "\n",
    "#Loop Melalui String\n",
    "text = \"Python\" \n",
    "for char in text:\n",
    "    print(char)\n",
    "print()\n",
    "\n",
    "#Loop dengan Range\n",
    "# Angka dari 0 hingga 4 \n",
    "for i in range(5):\n",
    "    print(i)\n",
    "\n",
    "# Angka dari 2 hingga 5\n",
    "for i in range(2, 6): \n",
    "    print(i)"
   ]
  },
  {
   "cell_type": "markdown",
   "id": "c8ffbdaf-6b49-4316-8b9f-e4cd4aba65d3",
   "metadata": {},
   "source": [
    "### 2. While Loop"
   ]
  },
  {
   "cell_type": "markdown",
   "id": "ffd7aa12-5334-441e-9e8c-920b02aa6695",
   "metadata": {},
   "source": [
    "##### Digunakan untuk mengulang blok kode selama kondisi bernilai True."
   ]
  },
  {
   "cell_type": "code",
   "execution_count": 129,
   "id": "e44a91f7-96c8-4aaf-928f-6aa107087fdf",
   "metadata": {},
   "outputs": [
    {
     "name": "stdin",
     "output_type": "stream",
     "text": [
      "Ulang lagi tidak?  ya\n",
      "Ulang lagi tidak?  ya\n",
      "Ulang lagi tidak?  ya\n",
      "Ulang lagi tidak?  ya\n",
      "Ulang lagi tidak?  tidak\n"
     ]
    },
    {
     "name": "stdout",
     "output_type": "stream",
     "text": [
      "Total perulangan: 5\n",
      "\n",
      "10\n",
      "8\n",
      "6\n",
      "4\n",
      "2\n",
      "\n",
      "0\n",
      "1\n",
      "2\n",
      "1\n",
      "2\n",
      "4\n",
      "5\n"
     ]
    }
   ],
   "source": [
    "#Bentuk umum:\n",
    "jawab = 'ya' \n",
    "hitung = 0\n",
    "\n",
    "while(jawab == 'ya'): \n",
    "    hitung += 1\n",
    "    jawab = input(\"Ulang lagi tidak? \") \n",
    "print(f\"Total perulangan: {hitung}\") \n",
    "print()\n",
    "\n",
    "#While dengan Kondisi\n",
    "number = 10\n",
    "while number > 0:\n",
    "    print(number)\n",
    "    number -= 2 \n",
    "print()\n",
    "\n",
    "#While dengan Break dan Continue\n",
    "count = 0\n",
    "while count < 5:\n",
    "    if count == 3: \n",
    "        break\n",
    "    print(count) \n",
    "    count += 1\n",
    "    \n",
    "count = 0\n",
    "while count < 5:\n",
    "    count += 1\n",
    "    if count == 3:\n",
    "        continue\n",
    "    print(count)"
   ]
  },
  {
   "cell_type": "markdown",
   "id": "18f3c5d3-faca-47ec-a4c8-ce36bdbd44d7",
   "metadata": {},
   "source": [
    "## Percabangan If Else"
   ]
  },
  {
   "cell_type": "markdown",
   "id": "aa337e1f-797d-4ec3-8af6-6eda11d98302",
   "metadata": {},
   "source": [
    "### 1. Percabangan 'If' (Single Alternative Selection):"
   ]
  },
  {
   "cell_type": "code",
   "execution_count": 135,
   "id": "e26e2925-99be-4069-b2de-f76b73427c29",
   "metadata": {},
   "outputs": [
    {
     "name": "stdout",
     "output_type": "stream",
     "text": [
      "Anda sudah dewasa.\n"
     ]
    }
   ],
   "source": [
    "umur = 18\n",
    "if umur >= 18:\n",
    "    print(\"Anda sudah dewasa.\")"
   ]
  },
  {
   "cell_type": "code",
   "execution_count": 137,
   "id": "b7ff110b-cef6-4942-9c1f-0e90284e652e",
   "metadata": {},
   "outputs": [
    {
     "name": "stdout",
     "output_type": "stream",
     "text": [
      "Selamat! Anda lulus.\n"
     ]
    }
   ],
   "source": [
    "nilai = 85\n",
    "if nilai >= 75:\n",
    "    print(\"Selamat! Anda lulus.\")"
   ]
  },
  {
   "cell_type": "markdown",
   "id": "cf478331-014c-418c-ac6d-c232e2748c55",
   "metadata": {},
   "source": [
    "### 2. Percabangan 'If-Else' (Dual Alternative Selection):"
   ]
  },
  {
   "cell_type": "code",
   "execution_count": 143,
   "id": "a4d789ad-2049-4c19-b671-49e179b88452",
   "metadata": {},
   "outputs": [
    {
     "name": "stdout",
     "output_type": "stream",
     "text": [
      "Anda lulus.\n"
     ]
    }
   ],
   "source": [
    "nilai = 82\n",
    "if nilai >= 60:\n",
    "    print(\"Anda lulus.\") \n",
    "else:\n",
    "    print(\"Anda belum lulus.\")"
   ]
  },
  {
   "cell_type": "code",
   "execution_count": 145,
   "id": "3ef68fef-5904-4171-8031-1a2c4dbc3d10",
   "metadata": {},
   "outputs": [
    {
     "name": "stdout",
     "output_type": "stream",
     "text": [
      "7 adalah bilangan ganjil.\n"
     ]
    }
   ],
   "source": [
    "angka = 7\n",
    "if angka % 2 == 0:\n",
    "    print(f\"{angka} adalah bilangan genap.\") \n",
    "else:\n",
    "    print(f\"{angka} adalah bilangan ganjil.\")"
   ]
  },
  {
   "cell_type": "markdown",
   "id": "621754e6-4c83-4933-b4ee-8428af5b0dfd",
   "metadata": {},
   "source": [
    "### 3. Percabangan 'If-Elif-Else' (Multiple Alternative Selection):"
   ]
  },
  {
   "cell_type": "code",
   "execution_count": 148,
   "id": "5de1bb6f-9ffb-49d1-a04c-c20b7338d730",
   "metadata": {},
   "outputs": [
    {
     "name": "stdout",
     "output_type": "stream",
     "text": [
      "Ini adalah hari Jumat.\n"
     ]
    }
   ],
   "source": [
    "nomor_hari = 5\n",
    "if nomor_hari == 1:\n",
    "    print(\"Ini adalah hari Senin.\") \n",
    "elif nomor_hari == 2:\n",
    "    print(\"Ini adalah hari Selasa.\") \n",
    "elif nomor_hari == 3:\n",
    "    print(\"Ini adalah hari Rabu.\") \n",
    "elif nomor_hari == 4:\n",
    "    print(\"Ini adalah hari Kamis.\") \n",
    "elif nomor_hari == 5:\n",
    "    print(\"Ini adalah hari Jumat.\") \n",
    "else:\n",
    "    print(\"Ini adalah hari akhir pekan.\")"
   ]
  },
  {
   "cell_type": "code",
   "execution_count": 150,
   "id": "dadefdec-5b09-4adb-b0cd-e19807a08d6a",
   "metadata": {},
   "outputs": [
    {
     "name": "stdout",
     "output_type": "stream",
     "text": [
      "Cuaca sangat panas.\n"
     ]
    }
   ],
   "source": [
    "suhu = 32\n",
    "if suhu > 30:\n",
    "    print(\"Cuaca sangat panas.\") \n",
    "elif suhu > 20:\n",
    "    print(\"Cuaca hangat.\") \n",
    "elif suhu > 10:\n",
    "    print(\"Cuaca sejuk.\") \n",
    "else:\n",
    "    print(\"Cuaca dingin.\")"
   ]
  },
  {
   "cell_type": "markdown",
   "id": "b53072f4-002d-4984-bb4c-126fa1213f65",
   "metadata": {},
   "source": [
    "### 4. Percabangan Bersarang (Nested If)"
   ]
  },
  {
   "cell_type": "code",
   "execution_count": 159,
   "id": "a513d469-9532-4c42-ab45-777979aef3d5",
   "metadata": {},
   "outputs": [
    {
     "name": "stdout",
     "output_type": "stream",
     "text": [
      "Anda masih remaja.\n"
     ]
    }
   ],
   "source": [
    "usia = 17\n",
    "status_pernikahan = \"belum menikah\"\n",
    "\n",
    "if usia >= 18:\n",
    "    if status_pernikahan == \"menikah\":\n",
    "        print(\"Anda sudah dewasa dan menikah.\") \n",
    "    else:\n",
    "        print(\"Anda sudah dewasa dan belum menikah.\") \n",
    "else:\n",
    "    print(\"Anda masih remaja.\")"
   ]
  },
  {
   "cell_type": "code",
   "execution_count": 161,
   "id": "e83fedf9-baac-4b98-9e10-c31892202ef7",
   "metadata": {},
   "outputs": [
    {
     "name": "stdout",
     "output_type": "stream",
     "text": [
      "Anda layak mendapatkan beasiswa penuh!\n"
     ]
    }
   ],
   "source": [
    "nilai = 85 \n",
    "prestasi = True\n",
    "\n",
    "if nilai >= 85: \n",
    "    if prestasi:\n",
    "        print(\"Anda layak mendapatkan beasiswa penuh!\") \n",
    "    else:\n",
    "        print(\"Anda layak mendapatkan beasiswa sebagian.\") \n",
    "else:\n",
    "    print(\"Maaf, Anda tidak layak mendapatkan beasiswa.\")"
   ]
  },
  {
   "cell_type": "code",
   "execution_count": null,
   "id": "c2012af9-ee49-40b6-83e3-34dec8ca863a",
   "metadata": {},
   "outputs": [],
   "source": []
  }
 ],
 "metadata": {
  "kernelspec": {
   "display_name": "Python 3 (ipykernel)",
   "language": "python",
   "name": "python3"
  },
  "language_info": {
   "codemirror_mode": {
    "name": "ipython",
    "version": 3
   },
   "file_extension": ".py",
   "mimetype": "text/x-python",
   "name": "python",
   "nbconvert_exporter": "python",
   "pygments_lexer": "ipython3",
   "version": "3.12.4"
  }
 },
 "nbformat": 4,
 "nbformat_minor": 5
}
